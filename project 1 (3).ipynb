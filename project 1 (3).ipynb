{
 "cells": [
  {
   "cell_type": "code",
   "execution_count": 1,
   "id": "30dfb76a",
   "metadata": {},
   "outputs": [],
   "source": [
    "import sys \n",
    "assert sys.version_info >= (3,7)\n",
    "\n",
    "import numpy as np\n",
    "import cv2 as cv\n",
    "import matplotlib.pyplot as plt\n",
    "from util_func import *\n"
   ]
  },
  {
   "cell_type": "markdown",
   "id": "9bbb7a54",
   "metadata": {},
   "source": [
    "## Color Segmentation for Square traffic sign"
   ]
  },
  {
   "cell_type": "code",
   "execution_count": null,
   "id": "a42211d7",
   "metadata": {},
   "outputs": [],
   "source": [
    "#use this(this is the latest)"
   ]
  },
  {
   "cell_type": "code",
   "execution_count": 2,
   "id": "620f5d93",
   "metadata": {},
   "outputs": [],
   "source": [
    "import cv2 as cv\n",
    "import numpy as np\n",
    "\n",
    "# Read the image\n",
    "img = cv.imread('image_project2/031_0001.png')\n",
    "\n",
    "# Convert image from BGR to the HSV color space\n",
    "hsv_image = cv.cvtColor(img, cv.COLOR_BGR2HSV)\n",
    "\n",
    "# Define upper and lower bounds for the light blue color in HSV\n",
    "lower_blue = np.array([90, 100, 100])\n",
    "upper_blue = np.array([110, 255, 255])\n",
    "\n",
    "# Define upper and lower bounds for the red color in HSV\n",
    "lower_red1 = np.array([0, 100, 100])\n",
    "upper_red1 = np.array([10, 255, 255])\n",
    "lower_red2 = np.array([160, 100, 100])\n",
    "upper_red2 = np.array([180, 255, 255])\n",
    "\n",
    "# Define upper and lower bounds for the yellow color in HSV\n",
    "lower_yellow = np.array([20, 100, 100])\n",
    "upper_yellow = np.array([30, 255, 255])\n",
    "\n",
    "# Create binary masks for each color\n",
    "mask_blue = cv.inRange(hsv_image, lower_blue, upper_blue)\n",
    "mask_red1 = cv.inRange(hsv_image, lower_red1, upper_red1)\n",
    "mask_red2 = cv.inRange(hsv_image, lower_red2, upper_red2)\n",
    "mask_yellow = cv.inRange(hsv_image, lower_yellow, upper_yellow)\n",
    "\n",
    "# Combine the masks for different colors\n",
    "combined_mask = mask_blue | mask_red1 | mask_red2 | mask_yellow\n",
    "\n",
    "# Morphological operations to clean up the mask\n",
    "kernel = np.ones((5, 5), np.uint8)\n",
    "combined_mask = cv.morphologyEx(combined_mask, cv.MORPH_OPEN, kernel)\n",
    "combined_mask = cv.morphologyEx(combined_mask, cv.MORPH_CLOSE, kernel)\n",
    "\n",
    "# Find contours in the binary mask\n",
    "contours, _ = cv.findContours(combined_mask, cv.RETR_EXTERNAL, cv.CHAIN_APPROX_SIMPLE)\n",
    "\n",
    "# Filter contours based on area to find the largest contour (traffic sign)\n",
    "largest_contour = max(contours, key=cv.contourArea)\n",
    "\n",
    "# Create a mask for the traffic sign region\n",
    "sign_mask = np.zeros_like(img)\n",
    "cv.drawContours(sign_mask, [largest_contour], -1, (255, 255, 255), thickness=cv.FILLED)\n",
    "\n",
    "# Extract the segmented traffic sign from the original image using the mask\n",
    "seg_traffic_sign = cv.bitwise_and(img, sign_mask)\n",
    "\n",
    "# Display the segmented traffic sign\n",
    "cv.imshow('Segmented Traffic Sign', seg_traffic_sign)\n",
    "cv.waitKey(0)\n",
    "cv.destroyAllWindows()\n"
   ]
  },
  {
   "cell_type": "markdown",
   "id": "0a1243f3",
   "metadata": {},
   "source": [
    "## Color segmentation + edge detection "
   ]
  },
  {
   "cell_type": "code",
   "execution_count": 3,
   "id": "7b53c548",
   "metadata": {},
   "outputs": [],
   "source": [
    "\n",
    "# Read the image\n",
    "img = cv.imread('image_project2/031_0001.png')\n",
    "\n",
    "# Convert image from BGR to the HSV color space\n",
    "hsv_image = cv.cvtColor(img, cv.COLOR_BGR2HSV)\n",
    "\n",
    "# Define upper and lower bounds for the light blue color in HSV\n",
    "lower_blue = np.array([90, 100, 100])\n",
    "upper_blue = np.array([110, 255, 255])\n",
    "\n",
    "# Define upper and lower bounds for the red color in HSV\n",
    "lower_red1 = np.array([0, 100, 100])\n",
    "upper_red1 = np.array([10, 255, 255])\n",
    "lower_red2 = np.array([160, 100, 100])\n",
    "upper_red2 = np.array([180, 255, 255])\n",
    "\n",
    "# Define upper and lower bounds for the yellow color in HSV\n",
    "lower_yellow = np.array([20, 100, 100])\n",
    "upper_yellow = np.array([30, 255, 255])\n",
    "\n",
    "# Create binary masks for each color\n",
    "mask_blue = cv.inRange(hsv_image, lower_blue, upper_blue)\n",
    "mask_red1 = cv.inRange(hsv_image, lower_red1, upper_red1)\n",
    "mask_red2 = cv.inRange(hsv_image, lower_red2, upper_red2)\n",
    "mask_yellow = cv.inRange(hsv_image, lower_yellow, upper_yellow)\n",
    "\n",
    "# Combine the masks for different colors\n",
    "combined_mask = mask_blue | mask_red1 | mask_red2 | mask_yellow\n",
    "\n",
    "# Morphological operations to clean up the mask\n",
    "kernel = np.ones((5, 5), np.uint8)\n",
    "combined_mask = cv.morphologyEx(combined_mask, cv.MORPH_OPEN, kernel)\n",
    "combined_mask = cv.morphologyEx(combined_mask, cv.MORPH_CLOSE, kernel)\n",
    "\n",
    "# Find contours in the binary mask\n",
    "contours, _ = cv.findContours(combined_mask, cv.RETR_EXTERNAL, cv.CHAIN_APPROX_SIMPLE)\n",
    "\n",
    "# Filter contours based on area to find the largest contour (traffic sign)\n",
    "largest_contour = max(contours, key=cv.contourArea)\n",
    "\n",
    "# Create a mask for the traffic sign region\n",
    "sign_mask = np.zeros_like(img)\n",
    "cv.drawContours(sign_mask, [largest_contour], -1, (255, 255, 255), thickness=cv.FILLED)\n",
    "\n",
    "# Extract the segmented traffic sign from the original image using the mask\n",
    "seg_traffic_sign = cv.bitwise_and(img, sign_mask)\n",
    "\n",
    "# Perform edge detection on the segmented traffic sign\n",
    "edges = cv.Canny(seg_traffic_sign, 100, 200)  # Adjust the thresholds as needed\n",
    "\n",
    "# Find contours in the edge-detected segmented traffic sign\n",
    "contours, _ = cv.findContours(edges, cv.RETR_EXTERNAL, cv.CHAIN_APPROX_SIMPLE)\n",
    "\n",
    "# Filter contours to find the largest contour in the edge-detected segmented traffic sign\n",
    "largest_contour_seg = max(contours, key=cv.contourArea)\n",
    "\n",
    "# Draw the largest contour on a black image\n",
    "contour_image = np.zeros_like(seg_traffic_sign)\n",
    "cv.drawContours(contour_image, [largest_contour_seg], -1, (255, 0, 0), thickness=cv.FILLED)\n",
    "\n",
    "# Merge the largest contour with the segmented traffic sign\n",
    "result = cv.addWeighted(seg_traffic_sign, 1, contour_image, 1, 0)\n",
    "\n",
    "# Display the result\n",
    "cv.imshow('Merged Image', result)\n",
    "cv.waitKey(0)\n",
    "cv.destroyAllWindows()\n"
   ]
  },
  {
   "cell_type": "markdown",
   "id": "4a872260",
   "metadata": {},
   "source": [
    "## Draw bounding box"
   ]
  },
  {
   "cell_type": "code",
   "execution_count": 6,
   "id": "145db479",
   "metadata": {},
   "outputs": [],
   "source": [
    "# Initialize an empty list to store bounding boxes\n",
    "bounding_boxes = []\n",
    "\n",
    "# Iterate through the contours and find bounding boxes\n",
    "for contour in contours:\n",
    "    x, y, w, h = cv.boundingRect(contour)\n",
    "    bounding_boxes.append((x, y, x + w, y + h))  # Format: (x1, y1, x2, y2)\n",
    "\n",
    "# Draw bounding boxes on the original image\n",
    "img_with_boxes = result.copy()\n",
    "for box in bounding_boxes:\n",
    "    x1, y1, x2, y2 = box\n",
    "    cv.rectangle(img_with_boxes, (x1, y1), (x2, y2), (0, 255, 0), 2)\n",
    "\n",
    "# Display or save the image with bounding boxes\n",
    "cv.imshow(\"Image with Bounding Boxes\", img_with_boxes)\n",
    "cv.waitKey(0)\n",
    "cv.destroyAllWindows()"
   ]
  },
  {
   "cell_type": "markdown",
   "id": "40fcb570",
   "metadata": {},
   "source": [
    "## IoU and Ground truth"
   ]
  },
  {
   "cell_type": "code",
   "execution_count": 7,
   "id": "ae510b94",
   "metadata": {},
   "outputs": [
    {
     "name": "stdout",
     "output_type": "stream",
     "text": [
      "IoU: 0.9842961301177791\n"
     ]
    }
   ],
   "source": [
    "import cv2 as cv\n",
    "\n",
    "# Calculate the IoU between two bounding boxes\n",
    "def computeIOU(boxA, boxB):\n",
    "    x_start = max(boxA[0], boxB[0])\n",
    "    y_start = max(boxA[1], boxB[1])\n",
    "    x_end = min(boxA[2], boxB[2])\n",
    "    y_end = min(boxA[3], boxB[3])\n",
    "    \n",
    "    interArea = max(0, x_end - x_start + 1) * max(0, y_end - y_start + 1)\n",
    "    areaA = (boxA[2] - boxA[0] + 1) * (boxA[3] - boxA[1] + 1)\n",
    "    areaB = (boxB[2] - boxB[0] + 1) * (boxB[3] - boxB[1] + 1)\n",
    "    \n",
    "    return interArea / (areaA + areaB - interArea)\n",
    "\n",
    "# Extract the bounding box of the segmented region\n",
    "x, y, w, h = cv.boundingRect(largest_contour)\n",
    "seg_region_box = (x, y, x + w, y + h)\n",
    "\n",
    "# Define the ground truth bounding box\n",
    "# Replace with the actual ground truth bounding box coordinates\n",
    "ground_truth_box = (55, 29, 172, 163)  # Format: (x1, y1, x2, y2)\n",
    "\n",
    "# Create a copy of the image with bounding boxes\n",
    "img_ground_truth = img_with_boxes.copy()\n",
    "\n",
    "# Draw the ground truth bounding box on the image\n",
    "x1, y1, x2, y2 = ground_truth_box\n",
    "cv.rectangle(img_ground_truth, (x1, y1), (x2, y2), (0, 0, 255), 2)  # Red color\n",
    "\n",
    "# Calculate the IoU between the segmented region box and ground truth box\n",
    "iou = computeIOU(seg_region_box, ground_truth_box)\n",
    "\n",
    "# Print the IoU value\n",
    "print(\"IoU:\", iou)\n",
    "\n",
    "# Display the image with the ground truth bounding box\n",
    "cv.imshow(\"Image with Ground Truth\", img_ground_truth)\n",
    "cv.waitKey(0)\n",
    "cv.destroyAllWindows()\n"
   ]
  },
  {
   "cell_type": "code",
   "execution_count": null,
   "id": "7cce3148",
   "metadata": {},
   "outputs": [],
   "source": [
    "#dont use the bolow code"
   ]
  },
  {
   "cell_type": "markdown",
   "id": "39305ef4",
   "metadata": {},
   "source": [
    "## circle"
   ]
  },
  {
   "cell_type": "code",
   "execution_count": 26,
   "id": "19e15926",
   "metadata": {},
   "outputs": [],
   "source": [
    "# Replace 'image_path' with the path to your input image\n",
    "image = cv.imread('images/000_0002.png')\n"
   ]
  },
  {
   "cell_type": "code",
   "execution_count": 27,
   "id": "7a3295cc",
   "metadata": {},
   "outputs": [],
   "source": [
    "# Convert the image to the HSV color space\n",
    "hsv_image = cv.cvtColor(image, cv.COLOR_BGR2HSV)\n",
    "\n",
    "# Define the lower and upper bounds for the red color in HSV\n",
    "lower_red = np.array([0, 100, 100])\n",
    "upper_red = np.array([10, 255, 255])\n",
    "\n",
    "# Create a binary mask where the red color is white and everything else is black\n",
    "mask = cv.inRange(hsv_image, lower_red, upper_red)\n",
    "\n",
    "# Apply morphological operations to clean up the mask (optional)\n",
    "kernel = np.ones((5, 5), np.uint8)\n",
    "mask = cv.morphologyEx(mask, cv.MORPH_OPEN, kernel)\n",
    "mask = cv.morphologyEx(mask, cv.MORPH_CLOSE, kernel)\n",
    "\n",
    "# Find contours in the binary mask\n",
    "contours, _ = cv.findContours(mask, cv.RETR_EXTERNAL, cv.CHAIN_APPROX_SIMPLE)\n",
    "\n",
    "# Filter contours based on area to find the circular traffic sign\n",
    "circular_sign = None\n",
    "for contour in contours:\n",
    "    perimeter = cv.arcLength(contour, True)\n",
    "    approx = cv.approxPolyDP(contour, 0.04 * perimeter, True)\n",
    "    if len(approx) == 8:  # Assuming a circular sign with 8 corners\n",
    "        circular_sign = contour\n",
    "        break\n",
    "\n",
    "# Create a mask for the circular traffic sign region\n",
    "sign_mask = np.zeros_like(image)\n",
    "cv.drawContours(sign_mask, [circular_sign], -1, (255, 255, 255), thickness=cv.FILLED)\n",
    "\n",
    "# Extract the segmented circular sign from the original image using the mask\n",
    "segmented_circular_sign = cv.bitwise_and(image, sign_mask)\n"
   ]
  },
  {
   "cell_type": "code",
   "execution_count": 28,
   "id": "95c0cded",
   "metadata": {},
   "outputs": [],
   "source": [
    "# Display only the segmented circular sign without any background\n",
    "cv.imshow('Segmented Circular Traffic Sign', segmented_circular_sign)\n",
    "cv.waitKey(0)\n",
    "cv.destroyAllWindows()\n"
   ]
  },
  {
   "cell_type": "code",
   "execution_count": null,
   "id": "3238ad27",
   "metadata": {},
   "outputs": [],
   "source": []
  }
 ],
 "metadata": {
  "kernelspec": {
   "display_name": "Python 3 (ipykernel)",
   "language": "python",
   "name": "python3"
  },
  "language_info": {
   "codemirror_mode": {
    "name": "ipython",
    "version": 3
   },
   "file_extension": ".py",
   "mimetype": "text/x-python",
   "name": "python",
   "nbconvert_exporter": "python",
   "pygments_lexer": "ipython3",
   "version": "3.10.9"
  }
 },
 "nbformat": 4,
 "nbformat_minor": 5
}
